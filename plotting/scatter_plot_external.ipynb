{
 "metadata": {
  "gist_id": "3eebeb7824408d377522",
  "name": "",
  "signature": "sha256:4a91659060ea5abc6829013f4ae908cc59929e37d5f383f305a35eab2f7f6416"
 },
 "nbformat": 3,
 "nbformat_minor": 0,
 "worksheets": [
  {
   "cells": [
    {
     "cell_type": "markdown",
     "metadata": {},
     "source": [
      "# Scatter plot example"
     ]
    },
    {
     "cell_type": "code",
     "collapsed": false,
     "input": [
      "#%matplotlib inline\n",
      "%matplotlib\n",
      "from matplotlib import pyplot as plt\n",
      "import numpy as np"
     ],
     "language": "python",
     "metadata": {},
     "outputs": []
    },
    {
     "cell_type": "code",
     "collapsed": false,
     "input": [
      "x = np.array([ 1,  3,  9, 14, 15, 19, 20, 21, 30, 35,\n",
      "              40, 41, 42, 47, 54, 56, 67, 69, 72, 88])\n",
      "\n",
      "y = np.array([33, 68, 34, 34, 37, 65, 37, 44, 48, 49,\n",
      "              53, 49, 50, 48, 56, 60, 61, 63, 44, 71])\n",
      "\n",
      "e = np.array([3.6, 3.9, 2.6, 3.4, 3.8, 14.8, 2.2, 2.1, 2.3, 3.8,\n",
      "              2.2, 2.8, 3.9, 3.1, 3.4, 2.6, 3.4, 3.7, 2.0, 3.5])"
     ],
     "language": "python",
     "metadata": {},
     "outputs": []
    },
    {
     "cell_type": "code",
     "collapsed": false,
     "input": [
      "plt.plot(x, y)"
     ],
     "language": "python",
     "metadata": {},
     "outputs": []
    },
    {
     "cell_type": "code",
     "collapsed": false,
     "input": [
      "plt.clf()\n",
      "plt.plot(x, y, 'o')"
     ],
     "language": "python",
     "metadata": {},
     "outputs": []
    },
    {
     "cell_type": "code",
     "collapsed": false,
     "input": [
      "plt.clf()\n",
      "plt.scatter(x, y)"
     ],
     "language": "python",
     "metadata": {},
     "outputs": []
    },
    {
     "cell_type": "code",
     "collapsed": false,
     "input": [
      "plt.clf()\n",
      "plt.plot(x, y, marker='o', linestyle='', color='k')"
     ],
     "language": "python",
     "metadata": {},
     "outputs": []
    },
    {
     "cell_type": "code",
     "collapsed": false,
     "input": [
      "plt.clf()\n",
      "_ = plt.errorbar(x, y, e, fmt='ok')"
     ],
     "language": "python",
     "metadata": {},
     "outputs": []
    },
    {
     "cell_type": "code",
     "collapsed": false,
     "input": [
      "def model(x):\n",
      "    return 30 + 0.6*x - 0.002*x**2\n",
      "\n",
      "xm = np.arange(0, 91, 1)\n",
      "ym = model(xm)"
     ],
     "language": "python",
     "metadata": {},
     "outputs": []
    },
    {
     "cell_type": "code",
     "collapsed": false,
     "input": [
      "#%rerun\n",
      "plt.plot(xm, ym)"
     ],
     "language": "python",
     "metadata": {},
     "outputs": []
    },
    {
     "cell_type": "code",
     "collapsed": false,
     "input": [
      "#%rerun\n",
      "plt.xlabel('resistance, $\\Omega$ ohms')\n",
      "plt.ylabel('size of universe, $S$ Gpc')"
     ],
     "language": "python",
     "metadata": {},
     "outputs": []
    },
    {
     "cell_type": "code",
     "collapsed": false,
     "input": [
      "#%rerun\n",
      "plt.axis((-10, 100, 20, 90))"
     ],
     "language": "python",
     "metadata": {},
     "outputs": []
    },
    {
     "cell_type": "code",
     "collapsed": false,
     "input": [
      "plt.gca().xaxis.labelpad = 20"
     ],
     "language": "python",
     "metadata": {},
     "outputs": []
    },
    {
     "cell_type": "code",
     "collapsed": false,
     "input": [
      "plt.draw()"
     ],
     "language": "python",
     "metadata": {},
     "outputs": []
    },
    {
     "cell_type": "code",
     "collapsed": false,
     "input": [
      "plt.tight_layout()"
     ],
     "language": "python",
     "metadata": {},
     "outputs": []
    },
    {
     "cell_type": "code",
     "collapsed": false,
     "input": [
      "plt.subplots_adjust(bottom=0.15)"
     ],
     "language": "python",
     "metadata": {},
     "outputs": []
    },
    {
     "cell_type": "heading",
     "level": 2,
     "metadata": {},
     "source": [
      "Customisation"
     ]
    },
    {
     "cell_type": "code",
     "collapsed": false,
     "input": [
      "# better-looking plots\n",
      "plt.rcParams['font.family'] = 'serif'\n",
      "plt.rcParams['figure.figsize'] = (10.0, 8.0)\n",
      "plt.rcParams['font.size'] = 18"
     ],
     "language": "python",
     "metadata": {},
     "outputs": []
    },
    {
     "cell_type": "code",
     "collapsed": false,
     "input": [
      "plt.rcParams"
     ],
     "language": "python",
     "metadata": {},
     "outputs": []
    },
    {
     "cell_type": "code",
     "collapsed": false,
     "input": [
      "fn = plt.matplotlib.matplotlib_fname()\n",
      "print fn"
     ],
     "language": "python",
     "metadata": {},
     "outputs": []
    },
    {
     "cell_type": "code",
     "collapsed": false,
     "input": [
      "from __future__ import print_function \n",
      "for l in open(fn): print(l, end=\"\")"
     ],
     "language": "python",
     "metadata": {},
     "outputs": []
    },
    {
     "cell_type": "code",
     "collapsed": false,
     "input": [
      "plt.clf()\n",
      "plt.errorbar(x, y, e, fmt='ok')\n",
      "plt.plot(xm, ym)\n",
      "plt.xlabel('resistance, $\\Omega$ ohms')\n",
      "plt.ylabel('size of universe, $S$ Gpc')\n",
      "plt.axis((-10, 100, 20, 90))\n",
      "plt.gca().xaxis.labelpad = 20\n",
      "plt.tight_layout()"
     ],
     "language": "python",
     "metadata": {},
     "outputs": []
    },
    {
     "cell_type": "code",
     "collapsed": false,
     "input": [
      "plt.savefig('scatter.pdf')"
     ],
     "language": "python",
     "metadata": {},
     "outputs": []
    }
   ],
   "metadata": {}
  }
 ]
}